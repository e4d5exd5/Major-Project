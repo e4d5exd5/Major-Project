{
 "cells": [
  {
   "cell_type": "code",
   "execution_count": 28,
   "metadata": {},
   "outputs": [],
   "source": [
    "from lib.Data import Data\n",
    "import itertools\n",
    "import csv"
   ]
  },
  {
   "cell_type": "code",
   "execution_count": 29,
   "metadata": {},
   "outputs": [],
   "source": [
    "ds = Data('IP')"
   ]
  },
  {
   "cell_type": "code",
   "execution_count": 30,
   "metadata": {},
   "outputs": [],
   "source": [
    "X, Y = ds.get_original_data()"
   ]
  },
  {
   "cell_type": "code",
   "execution_count": 31,
   "metadata": {},
   "outputs": [],
   "source": [
    "X, Y, patches = ds.get_data()\n",
    "no_of_patches_each_class = []\n",
    "no_classes = len(patches)\n",
    "# Prepare to store the combinations\n",
    "combinations = []\n",
    "\n",
    "\n",
    "for i in range(len(patches)):\n",
    "    no_of_patches_each_class.append(len(patches[i]))\n",
    "# print(no_of_patches_each_class)\n",
    "\n",
    "# Calculate total patches\n",
    "total_patches = sum(no_of_patches_each_class)\n",
    "# Target split ratio\n",
    "target_train_ratio = 0.60\n",
    "target_test_ratio = 0.40"
   ]
  },
  {
   "cell_type": "code",
   "execution_count": 32,
   "metadata": {},
   "outputs": [],
   "source": [
    "# Generate all possible combinations of class indices\n",
    "for r in range(1, no_classes + 1):\n",
    "    for train_indices in itertools.combinations(range(no_classes), r):\n",
    "        train_patches = sum(no_of_patches_each_class[i] for i in train_indices)\n",
    "        test_patches = total_patches - train_patches\n",
    "\n",
    "        train_ratio = train_patches / total_patches\n",
    "        test_ratio = test_patches / total_patches\n",
    "\n",
    "        if abs(train_ratio - target_train_ratio) < 0.001 and abs(test_ratio - target_test_ratio) < 0.001:\n",
    "            if(len(train_indices) == 10 ):\n",
    "                combinations.append({\n",
    "                    'Train Classes': train_indices,\n",
    "                    'Test Classes': tuple(i for i in range(no_classes) if i not in train_indices),\n",
    "                    'Train Patches': train_patches,\n",
    "                    'Test Patches': test_patches,\n",
    "                    'Train Ratio': train_ratio,\n",
    "                    'Test Ratio': test_ratio\n",
    "                })"
   ]
  },
  {
   "cell_type": "code",
   "execution_count": 35,
   "metadata": {},
   "outputs": [
    {
     "name": "stdout",
     "output_type": "stream",
     "text": [
      "0.9386281588447654 0.061371841155234655\n"
     ]
    }
   ],
   "source": [
    "train_inc = (1, 2, 4, 5, 7, 9, 10, 11, 13, 14)\n",
    "train_patches = sum(no_of_patches_each_class[i] for i in train_inc)\n",
    "test_patches = total_patches - train_patches\n",
    "train_ratio = train_patches / total_patches\n",
    "test_ratio = test_patches / total_patches\n",
    "print(train_ratio, test_ratio)"
   ]
  },
  {
   "cell_type": "code",
   "execution_count": 33,
   "metadata": {},
   "outputs": [
    {
     "name": "stdout",
     "output_type": "stream",
     "text": [
      "Combinations saved to 'train_test_combinations.csv'\n"
     ]
    }
   ],
   "source": [
    "# Write combinations to CSV\n",
    "with open('train_test_combinations3.csv', 'w', newline='') as csvfile:\n",
    "    fieldnames = ['Train Classes', 'Test Classes', 'Train Patches', 'Test Patches', 'Train Ratio', 'Test Ratio']\n",
    "    writer = csv.DictWriter(csvfile, fieldnames=fieldnames)\n",
    "\n",
    "    writer.writeheader()\n",
    "    for combination in combinations:\n",
    "        writer.writerow(combination)\n",
    "\n",
    "print(\"Combinations saved to 'train_test_combinations.csv'\")"
   ]
  }
 ],
 "metadata": {
  "kernelspec": {
   "display_name": "env",
   "language": "python",
   "name": "python3"
  },
  "language_info": {
   "codemirror_mode": {
    "name": "ipython",
    "version": 3
   },
   "file_extension": ".py",
   "mimetype": "text/x-python",
   "name": "python",
   "nbconvert_exporter": "python",
   "pygments_lexer": "ipython3",
   "version": "3.10.10"
  }
 },
 "nbformat": 4,
 "nbformat_minor": 2
}
